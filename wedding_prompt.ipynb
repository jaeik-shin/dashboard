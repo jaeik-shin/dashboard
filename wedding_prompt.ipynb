{
 "cells": [
  {
   "cell_type": "code",
   "execution_count": 1,
   "metadata": {},
   "outputs": [],
   "source": [
    "import os"
   ]
  },
  {
   "cell_type": "code",
   "execution_count": 5,
   "metadata": {},
   "outputs": [],
   "source": [
    "os.chdir(\"C:/Users/shin jaeik/프롬프트 과정\")"
   ]
  },
  {
   "cell_type": "code",
   "execution_count": 11,
   "metadata": {},
   "outputs": [
    {
     "data": {
      "text/plain": [
       "'C:\\\\Users\\\\shin jaeik\\\\프롬프트 과정'"
      ]
     },
     "execution_count": 11,
     "metadata": {},
     "output_type": "execute_result"
    }
   ],
   "source": [
    "os.getcwd()"
   ]
  },
  {
   "cell_type": "code",
   "execution_count": 8,
   "metadata": {},
   "outputs": [
    {
     "name": "stdout",
     "output_type": "stream",
     "text": [
      "Collecting pypdf\n",
      "  Downloading pypdf-5.1.0-py3-none-any.whl.metadata (7.2 kB)\n",
      "Downloading pypdf-5.1.0-py3-none-any.whl (297 kB)\n",
      "Installing collected packages: pypdf\n",
      "Successfully installed pypdf-5.1.0\n",
      "Note: you may need to restart the kernel to use updated packages.\n"
     ]
    }
   ],
   "source": [
    "pip install pypdf"
   ]
  },
  {
   "cell_type": "code",
   "execution_count": 9,
   "metadata": {},
   "outputs": [
    {
     "name": "stdout",
     "output_type": "stream",
     "text": [
      "Overwriting module/wedding_prompt.py\n"
     ]
    }
   ],
   "source": [
    "%%writefile module/wedding_prompt.py\n",
    "\n",
    "import streamlit as st\n",
    "from langchain.text_splitter import RecursiveCharacterTextSplitter\n",
    "from langchain.document_loaders import PyPDFLoader\n",
    "from langchain.embeddings import OpenAIEmbeddings\n",
    "from langchain.vectorstores import Chroma\n",
    "from langchain.chat_models import ChatOpenAI\n",
    "from langchain.retrievers import ContextualCompressionRetriever\n",
    "from langchain.chains import RetrievalQA\n",
    "import requests\n",
    "import base64\n",
    "from PIL import Image\n",
    "import io\n",
    "\n",
    "# API 키 설정\n",
    "openai_api_key = st.secrets[\"OPENAI_API_KEY\"]\n",
    "stability_api_key = st.secrets[\"STABILITY_API_KEY\"]\n",
    "\n",
    "# PDF 파일 경로 설정\n",
    "PDF_PATH = \"data/제목 없는 문서.pdf\"\n",
    "\n",
    "# 체형 분류 함수\n",
    "def classify_body_type(measurements):\n",
    "    shoulder_hip_ratio = measurements['shoulder_width'] / measurements['hip_width']\n",
    "    waist_hip_ratio = measurements['waist_circumference'] / measurements['hip_circumference']\n",
    "    chest_waist_ratio = measurements['chest_circumference'] / measurements['waist_circumference']\n",
    "    hip_waist_ratio = measurements['hip_circumference'] / measurements['waist_circumference']\n",
    "    body_volume_index = (measurements['chest_circumference'] + measurements['waist_circumference'] + measurements['hip_circumference']) / 3\n",
    "\n",
    "    if 0.95 < shoulder_hip_ratio < 1.05 and 0.95 < waist_hip_ratio < 1.05:\n",
    "        return \"rectangular body type\", \"직사각형형\"\n",
    "    elif 0.95 < chest_waist_ratio < 1.05 and measurements['chest_circumference'] > measurements['hip_circumference']:\n",
    "        return \"curvy body type\", \"곡선형\"\n",
    "    elif body_volume_index < 85:\n",
    "        return \"slim body type\", \"마른 체형\"\n",
    "    elif shoulder_hip_ratio > 1.1 and measurements['shoulder_width'] > measurements['hip_width']:\n",
    "        return \"broad-shouldered body type\", \"사각형 어깨형\"\n",
    "    elif shoulder_hip_ratio > 1.1 and measurements['chest_circumference'] > measurements['hip_circumference']:\n",
    "        return \"top-heavy body type\", \"상체 발달형\"\n",
    "    elif hip_waist_ratio > 1.1 and measurements['hip_circumference'] > measurements['chest_circumference']:\n",
    "        return \"pear-shaped body type\", \"하체 발달형\"\n",
    "    elif chest_waist_ratio > 1.1 and hip_waist_ratio > 1.1:\n",
    "        return \"hourglass body type\", \"모래시계형\"\n",
    "    elif hip_waist_ratio > 1.1 and measurements['hip_width'] < measurements['shoulder_width']:\n",
    "        return \"empire body type\", \"엠파이어형\"\n",
    "    elif hip_waist_ratio > 1.05 and measurements['hip_circumference'] > measurements['chest_circumference'] and body_volume_index < 90:\n",
    "        return \"slim pear body type\", \"슬림 하체형\"\n",
    "    else:\n",
    "        return \"balanced body type\", \"균형 잡힌 균형형\"\n",
    "\n",
    "# 웨딩드레스 추천 생성 함수\n",
    "def get_wedding_recommendations(body_type_kr):\n",
    "    recommendations = {\n",
    "        \"직사각형형\": \"A라인 드레스, 허리 강조, 레이어드 디테일 추가\",\n",
    "        \"곡선형\": \"부드러운 머메이드 라인 드레스\",\n",
    "        \"마른 체형\": \"볼륨감 있는 볼 가운 스타일\",\n",
    "        \"사각형 어깨형\": \"V넥 라인과 A라인 스커트\",\n",
    "        \"상체 발달형\": \"V넥 또는 엠파이어 드레스\",\n",
    "        \"하체 발달형\": \"풀 A라인 스커트와 상체 디테일 강조\",\n",
    "        \"모래시계형\": \"피트 앤 플레어 스타일\",\n",
    "        \"엠파이어형\": \"하이웨이스트 라인과 쉬폰 소재 드레스\",\n",
    "        \"슬림 하체형\": \"슬림한 시스 라인 드레스\",\n",
    "        \"균형 잡힌 균형형\": \"클래식한 A라인 드레스\"\n",
    "    }\n",
    "    return recommendations.get(body_type_kr, \"클래식한 스타일\")\n",
    "\n",
    "# Stability AI 이미지 생성 함수\n",
    "def generate_stability_image(body_type_en, stability_api_key):\n",
    "    prompt = f\"professional photo of a Korean bride with {body_type_en} wearing an elegant wedding dress, 8k, detailed\"\n",
    "    url = \"https://api.stability.ai/v1/generation/stable-diffusion-xl-1024-v1-0/text-to-image\"\n",
    "    headers = {\"Authorization\": f\"Bearer {stability_api_key}\"}\n",
    "    body = {\n",
    "        \"steps\": 40,\n",
    "        \"width\": 1024,\n",
    "        \"height\": 1024,\n",
    "        \"cfg_scale\": 7,\n",
    "        \"samples\": 1,\n",
    "        \"text_prompts\": [{\"text\": prompt, \"weight\": 1}]\n",
    "    }\n",
    "\n",
    "    response = requests.post(url, headers=headers, json=body)\n",
    "    if response.status_code == 200:\n",
    "        image_data = base64.b64decode(response.json()[\"artifacts\"][0][\"base64\"])\n",
    "        return Image.open(io.BytesIO(image_data))\n",
    "    else:\n",
    "        return None\n",
    "\n",
    "# PDF 로드 및 벡터 DB 설정\n",
    "@st.cache_resource\n",
    "def initialize_vectordb():\n",
    "    try:\n",
    "        loader = PyPDFLoader(PDF_PATH)\n",
    "        documents = loader.load()\n",
    "        text_splitter = RecursiveCharacterTextSplitter(chunk_size=500, chunk_overlap=60)\n",
    "        splits = text_splitter.split_documents(documents)\n",
    "        embeddings = OpenAIEmbeddings(openai_api_key=openai_api_key)\n",
    "        vectordb = Chroma.from_documents(documents=splits, embedding=embeddings, persist_directory=\"./VectorStores\")\n",
    "        return vectordb\n",
    "    except Exception as e:\n",
    "        st.error(f\"PDF 로드 중 오류 발생: {str(e)}\")\n",
    "        return None\n",
    "\n",
    "# RetrievalQA 설정\n",
    "def setup_qa_chain(vectordb):\n",
    "    chat_model = ChatOpenAI(model=\"gpt-3.5-turbo\", api_key=openai_api_key)\n",
    "    retriever = vectordb.as_retriever(search_kwargs={\"k\": 5})\n",
    "    qa_chain = RetrievalQA.from_chain_type(\n",
    "        llm=chat_model,\n",
    "        chain_type=\"stuff\",\n",
    "        retriever=retriever,\n",
    "        return_source_documents=True,\n",
    "        verbose=True\n",
    "    )\n",
    "    return qa_chain\n",
    "\n",
    "# Streamlit 인터페이스\n",
    "st.title(\"웨딩드레스 추천 시스템\")\n",
    "st.write(\"체형 분석을 통한 맞춤형 웨딩드레스 추천\")\n",
    "\n",
    "# 사용자 입력 받기\n",
    "col1, col2 = st.columns(2)\n",
    "with col1:\n",
    "    shoulder_width = st.number_input(\"어깨너비 (cm)\", min_value=0.0, step=0.1)\n",
    "    chest_circumference = st.number_input(\"가슴둘레 (cm)\", min_value=0.0, step=0.1)\n",
    "    waist_circumference = st.number_input(\"허리둘레 (cm)\", min_value=0.0, step=0.1)\n",
    "with col2:\n",
    "    waist_width = st.number_input(\"허리너비 (cm)\", min_value=0.0, step=0.1)\n",
    "    hip_circumference = st.number_input(\"엉덩이둘레 (cm)\", min_value=0.0, step=0.1)\n",
    "    hip_width = st.number_input(\"엉덩이너비 (cm)\", min_value=0.0, step=0.1)\n",
    "\n",
    "if st.button(\"체형 분석 및 드레스 추천\"):\n",
    "    vectordb = initialize_vectordb()\n",
    "    if vectordb is None:\n",
    "        st.error(\"벡터 DB 초기화 실패\")\n",
    "    else:\n",
    "        qa_chain = setup_qa_chain(vectordb)\n",
    "        \n",
    "        # 체형 분류 및 추천\n",
    "        measurements = {\n",
    "            'shoulder_width': shoulder_width,\n",
    "            'chest_circumference': chest_circumference,\n",
    "            'waist_circumference': waist_circumference,\n",
    "            'waist_width': waist_width,\n",
    "            'hip_circumference': hip_circumference,\n",
    "            'hip_width': hip_width\n",
    "        }\n",
    "        body_type_en, body_type_kr = classify_body_type(measurements)\n",
    "        recommendations = get_wedding_recommendations(body_type_kr)\n",
    "        \n",
    "        # 체형 분석 결과 출력\n",
    "        st.write(f\"### 체형 분석 결과: {body_type_kr}\")\n",
    "        st.write(f\"추천 웨딩드레스 스타일: {recommendations}\")\n",
    "        \n",
    "        # QA 시스템 실행\n",
    "        analysis_prompt = f\"체형 분석 결과 {body_type_kr}입니다. 이 체형에 가장 잘 어울리는 웨딩드레스 스타일과 그 이유를 설명해주세요.\"\n",
    "        result = qa_chain({\"query\": analysis_prompt})\n",
    "        st.write(\"### AI 기반 추가 추천사항:\")\n",
    "        st.write(result['result'])\n",
    "        \n",
    "        # Stability AI로 웨딩드레스 이미지 생성\n",
    "        with st.spinner(\"웨딩드레스 이미지 생성 중...\"):\n",
    "            image = generate_stability_image(body_type_en, stability_api_key)\n",
    "            if image:\n",
    "                st.image(image, caption=\"추천 웨딩드레스 이미지\")\n",
    "            else:\n",
    "                st.error(\"이미지 생성에 실패했습니다.\")\n",
    "\n",
    "if st.button(\"초기화\"):\n",
    "    st.experimental_rerun()"
   ]
  },
  {
   "cell_type": "code",
   "execution_count": 12,
   "metadata": {},
   "outputs": [
    {
     "name": "stderr",
     "output_type": "stream",
     "text": [
      "����ġ�� Ʋ���ϴ� - \"\".\n"
     ]
    }
   ],
   "source": [
    "ls data/"
   ]
  },
  {
   "cell_type": "code",
   "execution_count": 14,
   "metadata": {},
   "outputs": [
    {
     "name": "stderr",
     "output_type": "stream",
     "text": [
      "���� ������ �ùٸ��� �ʽ��ϴ�.\n"
     ]
    }
   ],
   "source": [
    "mkdir -p ./VectorStores"
   ]
  }
 ],
 "metadata": {
  "kernelspec": {
   "display_name": "base",
   "language": "python",
   "name": "python3"
  },
  "language_info": {
   "codemirror_mode": {
    "name": "ipython",
    "version": 3
   },
   "file_extension": ".py",
   "mimetype": "text/x-python",
   "name": "python",
   "nbconvert_exporter": "python",
   "pygments_lexer": "ipython3",
   "version": "3.12.7"
  }
 },
 "nbformat": 4,
 "nbformat_minor": 2
}
